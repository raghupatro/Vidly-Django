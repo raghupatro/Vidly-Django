{
 "cells": [
  {
   "cell_type": "markdown",
   "metadata": {},
   "source": [
    "# Django Basics - Vidly App"
   ]
  },
  {
   "cell_type": "markdown",
   "metadata": {},
   "source": [
    "## Create a virtual environment\n",
    "- you can either use pipenv to create a virtual env\n",
    "- or use `py -m venv env` to create a virtual env\n",
    "- and then use `env/Scripts/activate` to activate the venv"
   ]
  },
  {
   "cell_type": "markdown",
   "metadata": {},
   "source": [
    "## Create Default Django Project with boilerplate code\n",
    "`django-admin startproject {project name} {directory}`"
   ]
  },
  {
   "cell_type": "markdown",
   "metadata": {},
   "source": [
    "## Files\n",
    "\n",
    "### manage.py\n",
    "for doing administrative tasks \n",
    "- starting our app\n",
    "- migrating database\n",
    "- etc\n",
    "\n",
    "### vidly directory - package (core settings of our proj)\n",
    "- init.py tells python to treat this directory as a package\n",
    "- settings.py config settings\n",
    "- urls.py where we define url endpoints\n",
    "- wsgi.py webserver gateway interface to represent std interface for web apps and python"
   ]
  },
  {
   "cell_type": "markdown",
   "metadata": {},
   "source": [
    "## Django App\n",
    "\n",
    "A single project can consist of many Django Apps, each app for a specific functional area, ex. shipping, customer service, orders, etc. in the case of Amazon.\n",
    "\n",
    "We can reuse apps in different projects"
   ]
  },
  {
   "cell_type": "markdown",
   "metadata": {},
   "source": [
    "we can use `python manage.py startapp {app name}` to create apps"
   ]
  },
  {
   "cell_type": "markdown",
   "metadata": {},
   "source": [
    "### Files present\n",
    "\n",
    "- migrations directory\n",
    "- init.py file tells python that this directory is a package\n",
    "- admin.py : how admin area will look like\n",
    "- apps.py : store config settings for this app\n",
    "- models.py : define classes to represent domain of this app, i.e. data it contains\n",
    "- tests.py : automated tests for this app\n",
    "- views.py : write view functions"
   ]
  },
  {
   "cell_type": "markdown",
   "metadata": {},
   "source": [
    "GET request to a particular url, is passed to a view function, which returns a response (a webpage, or text, or JSON, etc)"
   ]
  },
  {
   "cell_type": "markdown",
   "metadata": {},
   "source": [
    "## Views"
   ]
  },
  {
   "cell_type": "markdown",
   "metadata": {},
   "source": [
    "index is used to represent the main page of our app by convention."
   ]
  },
  {
   "cell_type": "markdown",
   "metadata": {},
   "source": [
    "```\n",
    "def index(request):\n",
    "    return HttpResponse(\"Hello World\")\n",
    "\n",
    "# request object has all the request data\n",
    "# convention to return a HttpResponse object\n",
    "\n",
    "\n",
    "```"
   ]
  },
  {
   "cell_type": "markdown",
   "metadata": {},
   "source": [
    "Now that we have created a view function, we need to map it to an url, create a urls.py file inside movies directory"
   ]
  },
  {
   "cell_type": "markdown",
   "metadata": {},
   "source": [
    "we need to use relative import statement inside the urls.py file, so that it imports the right views.py module (the one inside the movies app)"
   ]
  },
  {
   "cell_type": "markdown",
   "metadata": {},
   "source": [
    "```\n",
    "from django.urls import path\n",
    "from . import views\n",
    "urlpatterns = [\n",
    "    path('', views.index, name = 'index')\n",
    "]\n",
    "\n",
    "```"
   ]
  },
  {
   "cell_type": "markdown",
   "metadata": {},
   "source": [
    "but as of now, the main (vidly) app has no knowledge of our movies app, thus we need to go to urls.py of the main app and modify it"
   ]
  },
  {
   "cell_type": "markdown",
   "metadata": {},
   "source": [
    "by default django looks for the variable **urlpatterns** while starting an app"
   ]
  },
  {
   "cell_type": "markdown",
   "metadata": {},
   "source": [
    "also import `include`"
   ]
  },
  {
   "cell_type": "markdown",
   "metadata": {},
   "source": [
    "add a path object in that list `path(movies/, include('movies.url'))`"
   ]
  },
  {
   "cell_type": "markdown",
   "metadata": {},
   "source": [
    "## Models"
   ]
  },
  {
   "cell_type": "markdown",
   "metadata": {},
   "source": [
    "Models are python classes used to represent our application data"
   ]
  },
  {
   "cell_type": "markdown",
   "metadata": {},
   "source": [
    "write code in the models.py file of the app "
   ]
  },
  {
   "cell_type": "markdown",
   "metadata": {},
   "source": [
    "`class Genre(models.Model):` makes our class Genre inherit the Model class"
   ]
  },
  {
   "cell_type": "markdown",
   "metadata": {},
   "source": [
    "we can specify datatpes of variables in a model using models.{DataType}"
   ]
  },
  {
   "cell_type": "markdown",
   "metadata": {},
   "source": [
    "we can use `models.ForeignKey()` to create a relationship between different classes"
   ]
  },
  {
   "cell_type": "markdown",
   "metadata": {},
   "source": [
    "`on_delete` tells python what to do when the genre is deleted"
   ]
  },
  {
   "cell_type": "markdown",
   "metadata": {},
   "source": [
    "cascading : if a genre is deleted, all the movies associated with it will also be deleted"
   ]
  },
  {
   "cell_type": "markdown",
   "metadata": {},
   "source": [
    "next step is to tell Django to sync our models to a database, for that we need to look into migrations"
   ]
  },
  {
   "cell_type": "markdown",
   "metadata": {},
   "source": [
    "## Migrations"
   ]
  },
  {
   "cell_type": "markdown",
   "metadata": {},
   "source": [
    "Django admin by default stores data in the `db.sqlite3` database"
   ]
  },
  {
   "cell_type": "markdown",
   "metadata": {},
   "source": [
    "Django can connect to a variety of production level databases, ex. MySQL, PostGres, Oracle, etc."
   ]
  },
  {
   "cell_type": "markdown",
   "metadata": {},
   "source": [
    "we need not manually create the tables acc to our models in the database, django does that for us."
   ]
  },
  {
   "cell_type": "markdown",
   "metadata": {},
   "source": [
    "Django compares our models and the database, if there are any changes, it creates a python file called **migration**, it has code to sync our database with our model classes"
   ]
  },
  {
   "cell_type": "markdown",
   "metadata": {},
   "source": [
    "`python manage.py makemigrations`"
   ]
  },
  {
   "cell_type": "markdown",
   "metadata": {},
   "source": [
    "by default, Django is not aware of our model classes (neither our app), so we need to register them first"
   ]
  },
  {
   "cell_type": "markdown",
   "metadata": {},
   "source": [
    "inside the main app (vidly), open settings.py, INSTALLED_APPS list has various preinstalled apps we might need"
   ]
  },
  {
   "cell_type": "markdown",
   "metadata": {},
   "source": [
    "add our movies app in the list, we need to provide complete path to our MoviesConfig class in the apps.py file in the movies app"
   ]
  },
  {
   "cell_type": "markdown",
   "metadata": {},
   "source": [
    "`movies.apps.MoviesConfig`"
   ]
  },
  {
   "cell_type": "markdown",
   "metadata": {},
   "source": [
    "now run make migrations command and see"
   ]
  },
  {
   "cell_type": "markdown",
   "metadata": {},
   "source": [
    "Django creates a migration, on checking out the file, we see that it has a Migration Class and operations needed to sync our models to the database"
   ]
  },
  {
   "cell_type": "markdown",
   "metadata": {},
   "source": [
    "the migration is just created, it hasn't been applied yet, to run the migration use `py .\\manage.py migrate`"
   ]
  },
  {
   "cell_type": "markdown",
   "metadata": {},
   "source": [
    "django saves the list of migrations in the django_migrations table in the database"
   ]
  },
  {
   "cell_type": "markdown",
   "metadata": {},
   "source": [
    "## Changing the Models"
   ]
  },
  {
   "cell_type": "markdown",
   "metadata": {},
   "source": [
    "to add a date_created variable to the model, go to the models.py file, add the new variable"
   ]
  },
  {
   "cell_type": "markdown",
   "metadata": {},
   "source": [
    "python's datetime is not aware of the timezone, we use Django's timezone class to do so correctly"
   ]
  },
  {
   "cell_type": "markdown",
   "metadata": {},
   "source": [
    "**DO NOT CALL THE METHOD, PASS A REFERENCE TO IT**"
   ]
  },
  {
   "cell_type": "markdown",
   "metadata": {},
   "source": [
    "otherwise a fixed date will be sent as default"
   ]
  },
  {
   "cell_type": "markdown",
   "metadata": {},
   "source": [
    "**DO NOT EVER EVER EVER DELETE ANY MIGRATION**"
   ]
  },
  {
   "cell_type": "markdown",
   "metadata": {},
   "source": [
    "based on the migrations, Django generated SQL commands to be sent to the database, to see the SQL commands, we can use sqlmigrate"
   ]
  },
  {
   "cell_type": "markdown",
   "metadata": {},
   "source": [
    "`py .\\manage.py sqlmigrate movies 0001`"
   ]
  },
  {
   "cell_type": "markdown",
   "metadata": {},
   "source": [
    "## Admin"
   ]
  },
  {
   "cell_type": "markdown",
   "metadata": {},
   "source": [
    "all django apps come with a powerful admin panel by default, which can be accessed at /admin"
   ]
  },
  {
   "cell_type": "markdown",
   "metadata": {},
   "source": [
    "as of now we don't have any users, so we can create a superuser using `py .\\manage.py createsuperuser`"
   ]
  },
  {
   "cell_type": "markdown",
   "metadata": {},
   "source": [
    "you need to create a strong password, press Y to bypass it"
   ]
  },
  {
   "cell_type": "markdown",
   "metadata": {},
   "source": [
    "user: admin\n",
    "\n",
    "password: 1234"
   ]
  },
  {
   "cell_type": "markdown",
   "metadata": {},
   "source": [
    "we can see the users and groups in the admin panel, as of now the models aren't shown there, to see it, register the movies app with our admin app"
   ]
  },
  {
   "cell_type": "markdown",
   "metadata": {},
   "source": [
    "in the admin.py file in the movies app,\n",
    "```\n",
    "from .models import Genre, Movie\n",
    "\n",
    "admin.site.register(Genre)\n",
    "admin.site.register(Movie)\n",
    "```"
   ]
  },
  {
   "cell_type": "markdown",
   "metadata": {},
   "source": [
    "the admin interface isn't very user friendly to see the data in our models, we can customize the admin panel further"
   ]
  },
  {
   "cell_type": "markdown",
   "metadata": {},
   "source": [
    "## Customising the Admin"
   ]
  },
  {
   "cell_type": "markdown",
   "metadata": {},
   "source": [
    "by default the Genre(or any model) is displayed as a string, to change it, we overwrite the \\_\\_str\\_\\_ method"
   ]
  },
  {
   "cell_type": "markdown",
   "metadata": {},
   "source": [
    "```\n",
    "def __str__(self):\n",
    "        self.name\n",
    "```"
   ]
  },
  {
   "cell_type": "markdown",
   "metadata": {},
   "source": [
    "in the admin.py module of the movies app, we need to create a new class {model_name}Admin, and also register it alongwith Genre model"
   ]
  },
  {
   "cell_type": "markdown",
   "metadata": {},
   "source": [
    "to modify the admin panel for the Movies Model, we need to create an additional class too, as above"
   ]
  },
  {
   "cell_type": "markdown",
   "metadata": {},
   "source": [
    "```\n",
    "class GenreAdmin(admin.ModelAdmin):\n",
    "    list_display = ('id', 'name') #shows these fields in the display page of the Genre\n",
    "\n",
    "\n",
    "class MoviesAdmin(admin.ModelAdmin):\n",
    "    exclude = ('date_created',) #excludes this field in the input page for new movies\n",
    "```"
   ]
  },
  {
   "cell_type": "markdown",
   "metadata": {},
   "source": [
    "## Database Abstraction API"
   ]
  },
  {
   "cell_type": "markdown",
   "metadata": {},
   "source": [
    "the `models.Model` class from which we inherited, already has methods for basic CRUD operations"
   ]
  },
  {
   "cell_type": "markdown",
   "metadata": {},
   "source": [
    "to show the data from our database into the website, we change the views.py module as follows"
   ]
  },
  {
   "cell_type": "markdown",
   "metadata": {},
   "source": [
    "```\n",
    "Movie.objects.all() #shows all movies\n",
    "Movie.objects.filter(genre=\"Comedy\") #filters the data accordingly\n",
    "Movie.objects.get(id=2) #gets a particular data\n",
    "```"
   ]
  },
  {
   "cell_type": "markdown",
   "metadata": {},
   "source": [
    "these inbuilt methods represent the database abstraction API"
   ]
  },
  {
   "cell_type": "markdown",
   "metadata": {},
   "source": [
    "we can always send raw SQL statements if the query is too complex and these methods don't serve the purpose"
   ]
  },
  {
   "cell_type": "markdown",
   "metadata": {},
   "source": [
    "## Templates"
   ]
  },
  {
   "cell_type": "markdown",
   "metadata": {},
   "source": [
    "to render html content with data coming from our database, we use the render function imported from django.shortcuts to do so"
   ]
  },
  {
   "cell_type": "markdown",
   "metadata": {},
   "source": [
    "`render({request object},{template},{context, i.e. the dictionary containing the data})`"
   ]
  },
  {
   "cell_type": "markdown",
   "metadata": {},
   "source": [
    "we need to return the result of the render() from the index method"
   ]
  },
  {
   "cell_type": "markdown",
   "metadata": {},
   "source": [
    "create a new folder called **templates** in the app folder, add all templates there "
   ]
  },
  {
   "cell_type": "markdown",
   "metadata": {},
   "source": [
    "**zen coding** : emmet abbreviations `table.table>thead>tr>th*3` creates a table with classname table, having a thead, a tr and 3 th tags inside it"
   ]
  },
  {
   "cell_type": "markdown",
   "metadata": {},
   "source": [
    "to use the template properly, set the language to DjangoHTML"
   ]
  },
  {
   "cell_type": "markdown",
   "metadata": {},
   "source": [
    "in the autocomplete menu, square with no base, represents an code snippet"
   ]
  },
  {
   "cell_type": "markdown",
   "metadata": {},
   "source": [
    "in django html\n",
    "- {{}} for rendering values\n",
    "- {%%} to write logic"
   ]
  },
  {
   "cell_type": "markdown",
   "metadata": {},
   "source": [
    "told something about pylint not recognizing django class having objects.. to solve it installed some plugin and created .pylintrc\n",
    "\n",
    "we need not do it as no such problem arised"
   ]
  },
  {
   "cell_type": "markdown",
   "metadata": {},
   "source": [
    "Django checks the template folder of all the installed apps, and thus it might load the index.html of any other app, to prevent this from happening we should give a namespace to our index.html, for doing it, create another folder called movies inside the templates folder and move the index.html file there"
   ]
  },
  {
   "cell_type": "markdown",
   "metadata": {},
   "source": [
    "## Adding Bootstrap"
   ]
  },
  {
   "cell_type": "markdown",
   "metadata": {},
   "source": [
    "create a new template base.html, and add the bootstrap starter template to it"
   ]
  },
  {
   "cell_type": "markdown",
   "metadata": {},
   "source": [
    "then we need to add a placeholder in the html file, where the other html templates will be rendered"
   ]
  },
  {
   "cell_type": "markdown",
   "metadata": {},
   "source": [
    "`{%block content%}{%block%}`"
   ]
  },
  {
   "cell_type": "markdown",
   "metadata": {},
   "source": [
    "and in the index.html file, we need to use another template tag called extends, so that it renders in the right place"
   ]
  },
  {
   "cell_type": "markdown",
   "metadata": {},
   "source": [
    "```\n",
    "{%extends 'movies/base.html'%}\n",
    "{%block content%}\n",
    "\n",
    "#all the code from this html file\n",
    "\n",
    "{%block%}\n",
    "```"
   ]
  },
  {
   "cell_type": "markdown",
   "metadata": {},
   "source": [
    "## Customising the Layout"
   ]
  },
  {
   "cell_type": "markdown",
   "metadata": {},
   "source": [
    "add the brand navbar from bootstrap into the base.html template"
   ]
  },
  {
   "cell_type": "markdown",
   "metadata": {},
   "source": [
    "also add the content block inside a < main class=\"container\"> < /main> tags"
   ]
  },
  {
   "cell_type": "markdown",
   "metadata": {},
   "source": [
    "## Sharing Template across multiple apps"
   ]
  },
  {
   "cell_type": "markdown",
   "metadata": {},
   "source": [
    "create a new templates folder in the base folder and add move the base template to that folder"
   ]
  },
  {
   "cell_type": "markdown",
   "metadata": {},
   "source": [
    "Django by default only looks in the installed apps for templates, so we need to explicitly tell django to look into the template folder we made (which is not inside any app)."
   ]
  },
  {
   "cell_type": "markdown",
   "metadata": {},
   "source": [
    "We can do this by modifying the settings.py file in the (main) vidly app"
   ]
  },
  {
   "cell_type": "markdown",
   "metadata": {},
   "source": [
    "add `'DIRS': [os.path.join(BASE_DIR, 'templates')]` to the TEMPLATES list"
   ]
  },
  {
   "cell_type": "markdown",
   "metadata": {},
   "source": [
    "now this base template can be shared by multiple apps"
   ]
  },
  {
   "cell_type": "markdown",
   "metadata": {},
   "source": [
    "## URL parameters"
   ]
  },
  {
   "cell_type": "markdown",
   "metadata": {},
   "source": [
    "we can define new urlpatterns in the urls.py file"
   ]
  },
  {
   "cell_type": "markdown",
   "metadata": {},
   "source": [
    "we should write a proper name for a url, so that it's easier to reference and change if needed in the future"
   ]
  },
  {
   "cell_type": "markdown",
   "metadata": {},
   "source": [
    "`path('<movie_id>', views.detail, name='movies_detail')`"
   ]
  },
  {
   "cell_type": "markdown",
   "metadata": {},
   "source": [
    "django automatically extracts \"movie_id\" and sends it as a variable to the view function"
   ]
  },
  {
   "cell_type": "markdown",
   "metadata": {},
   "source": [
    "prefixing with **int:** converts the incoming data to int, makes sure that non int values aren't accepted"
   ]
  },
  {
   "cell_type": "markdown",
   "metadata": {},
   "source": [
    "`path('<int:movie_id>', views.detail, name='movies_detail')`"
   ]
  },
  {
   "cell_type": "markdown",
   "metadata": {},
   "source": [
    "## Getting a Single Object"
   ]
  },
  {
   "cell_type": "markdown",
   "metadata": {},
   "source": [
    "create view function **detail** in views.py file"
   ]
  },
  {
   "cell_type": "markdown",
   "metadata": {},
   "source": [
    "```\n",
    "def detail(request, movie_id):\n",
    "    movie = Movie.objects.get(pk=movie_id)\n",
    "    return render(request, 'movies/detail.html', {'movie': movie})\n",
    "```"
   ]
  },
  {
   "cell_type": "markdown",
   "metadata": {},
   "source": [
    "create the template **details.html**"
   ]
  },
  {
   "cell_type": "markdown",
   "metadata": {},
   "source": [
    "```\n",
    "{% extends 'base.html' %}\n",
    "{% block content %}\n",
    "    <dl>\n",
    "        <dt>Title</dt>\n",
    "        <dd>{{movie.title}}</dd>\n",
    "        <dt>Genre</dt>\n",
    "        <dd>{{movie.genre}}</dd>\n",
    "        <dt>Stock</dt>\n",
    "        <dd>{{movie.number_in_stock}}</dd>\n",
    "    </dl>\n",
    "{% endblock content %}\n",
    "```"
   ]
  },
  {
   "cell_type": "markdown",
   "metadata": {},
   "source": [
    "## Raising 404 errors"
   ]
  },
  {
   "cell_type": "markdown",
   "metadata": {},
   "source": [
    "wrap the code inside the view function in a try except block"
   ]
  },
  {
   "cell_type": "markdown",
   "metadata": {},
   "source": [
    "```\n",
    "def detail(request, movie_id):\n",
    "    try:\n",
    "        movie = Movie.objects.get(pk=movie_id)\n",
    "        return render(request, 'movies/detail.html', {'movie': movie})\n",
    "    except Movie.DoesNotExist:\n",
    "        raise Http404() # need to import Http404 class from django.http\n",
    "```"
   ]
  },
  {
   "cell_type": "markdown",
   "metadata": {},
   "source": [
    "the above code, adding the try except blocks in all view functions is repetitive, we have a Django shortcut for that"
   ]
  },
  {
   "cell_type": "markdown",
   "metadata": {},
   "source": [
    "```\n",
    "def detail(request, movie_id):\n",
    "    movie = get_object_or_404(klass=Movie, pk=movie_id)\n",
    "    return render(request, 'movies/detail.html', {'movie': movie})\n",
    "```"
   ]
  },
  {
   "cell_type": "markdown",
   "metadata": {},
   "source": [
    "klass is the Model class we need to fetch the object from, the get_object_or_404 method automatically throws a 404 exception if the object is not found"
   ]
  },
  {
   "cell_type": "markdown",
   "metadata": {},
   "source": [
    "## Referencing the URLs"
   ]
  },
  {
   "cell_type": "markdown",
   "metadata": {},
   "source": [
    "add anchor tags to the names in the table"
   ]
  },
  {
   "cell_type": "markdown",
   "metadata": {},
   "source": [
    "< td>< a href=\"/movies/{{movie.id}}\">{{movie.title}}< /a>< /td>"
   ]
  },
  {
   "cell_type": "markdown",
   "metadata": {},
   "source": [
    "not the best approach, we might need to change the url in the future, so we use the url template tag instead and reference the names from the view functions in the urls.py file"
   ]
  },
  {
   "cell_type": "markdown",
   "metadata": {},
   "source": [
    "< td>< a href=\"{% url 'movies_detail'**(url name)** movie.id **(optional parameters)**%}\">{{movie.title}}< /a>< /td>"
   ]
  },
  {
   "cell_type": "markdown",
   "metadata": {},
   "source": [
    "we can include a variable `app_name = 'movies'` in the urls.py file, so that we don't have to prefix every path name with movies"
   ]
  },
  {
   "cell_type": "markdown",
   "metadata": {},
   "source": [
    "now, in the index.html, we use `movies:detail` instead of `movies_detail` for referencing the url path"
   ]
  },
  {
   "cell_type": "markdown",
   "metadata": {},
   "source": [
    "## Creating APIs"
   ]
  },
  {
   "cell_type": "markdown",
   "metadata": {},
   "source": [
    "we can use either **django-tastypie** or **djangorestframework** for creating APIs using Django, tastypie is simpler, we're gonna use it"
   ]
  },
  {
   "cell_type": "markdown",
   "metadata": {},
   "source": [
    "`pip install django-tastypie`"
   ]
  },
  {
   "cell_type": "markdown",
   "metadata": {},
   "source": [
    "create a new Django app in this project"
   ]
  },
  {
   "cell_type": "markdown",
   "metadata": {},
   "source": [
    "`python ./manage.py startapp api`"
   ]
  },
  {
   "cell_type": "markdown",
   "metadata": {},
   "source": [
    "now register the new app in settings.py file in the main (vidly) app"
   ]
  },
  {
   "cell_type": "markdown",
   "metadata": {},
   "source": [
    "```\n",
    "INSTALLED_APPS = [\n",
    "    'django.contrib.admin',\n",
    "    'django.contrib.auth',\n",
    "    'django.contrib.contenttypes',\n",
    "    'django.contrib.sessions',\n",
    "    'django.contrib.messages',\n",
    "    'django.contrib.staticfiles',\n",
    "    'movies.apps.MoviesConfig',\n",
    "    'api.apps.ApiConfig'\n",
    "]\n",
    "```"
   ]
  },
  {
   "cell_type": "markdown",
   "metadata": {},
   "source": [
    "in the models.py file, we need to create a resource, which we will expose to the world using the url, of the API"
   ]
  },
  {
   "cell_type": "markdown",
   "metadata": {},
   "source": [
    "tastypie looks for an inner Meta class and some other formalities, thus we need to set it up accordingly"
   ]
  },
  {
   "cell_type": "markdown",
   "metadata": {},
   "source": [
    "```\n",
    "class MovieResource(ModelResource):\n",
    "    class Meta:\n",
    "        queryset = Movie.objects.all()\n",
    "        resource_name = 'movies'\n",
    "```"
   ]
  },
  {
   "cell_type": "markdown",
   "metadata": {},
   "source": [
    "now we need to set the url endpoints, in the main vidly app, include the MovieResource and instantiate it using a variable"
   ]
  },
  {
   "cell_type": "markdown",
   "metadata": {},
   "source": [
    "```\n",
    "movie_resource = MovieResource()\n",
    "urlpatterns = [\n",
    "    path('admin/', admin.site.urls),\n",
    "    path('movies/', include('movies.urls')),\n",
    "    path('api/', include(movie_resource.urls))\n",
    "```"
   ]
  },
  {
   "cell_type": "markdown",
   "metadata": {},
   "source": [
    "we can set the exclude attribute in the MovieResource's meta class, to exclude any data we want"
   ]
  },
  {
   "cell_type": "markdown",
   "metadata": {},
   "source": [
    "```\n",
    "class MovieResource(ModelResource):\n",
    "    class Meta:\n",
    "        queryset = Movie.objects.all()\n",
    "        resource_name = 'movies'\n",
    "        excludes = ['date_created']\n",
    "```"
   ]
  },
  {
   "cell_type": "markdown",
   "metadata": {},
   "source": [
    "## Adding the Homepage"
   ]
  },
  {
   "cell_type": "markdown",
   "metadata": {},
   "source": [
    "the moment we add any other url pattern other than the default admin one, django stops showing the default homepage"
   ]
  },
  {
   "cell_type": "markdown",
   "metadata": {},
   "source": [
    "create a new views.py file in the vidly app, add a home view function in it"
   ]
  },
  {
   "cell_type": "markdown",
   "metadata": {},
   "source": [
    "now map this view function to a url endpoint in the urls.py file"
   ]
  },
  {
   "cell_type": "markdown",
   "metadata": {},
   "source": [
    "### vidly folder by default is NOT an app, it looks like an app but it is not one"
   ]
  },
  {
   "cell_type": "markdown",
   "metadata": {},
   "source": [
    "thus, if we need to add the home page in a templates folder in the vidly folder, we need to first register it as an app, OR we can save all the general templates (home, about, contact, etc.) in the templates folder in the base directory"
   ]
  },
  {
   "cell_type": "markdown",
   "metadata": {},
   "source": [
    "extend the base template in the home.html template, add a link to the movies page"
   ]
  },
  {
   "cell_type": "markdown",
   "metadata": {},
   "source": [
    "## Preparing for Deployment"
   ]
  },
  {
   "cell_type": "markdown",
   "metadata": {},
   "source": [
    "we can deploy on any of\n",
    "- heroku\n",
    "- digitalocean\n",
    "- AWS\n",
    "- Google Cloud\n",
    "- Microsoft Azure\n",
    "- etc."
   ]
  },
  {
   "cell_type": "markdown",
   "metadata": {},
   "source": [
    "install the following\n",
    "- heroku cli\n",
    "- git"
   ]
  },
  {
   "cell_type": "markdown",
   "metadata": {},
   "source": [
    "we need to install **gunicorn** which is a popular webserver for python applications, as we can't use the lightweight development server in the production environment"
   ]
  },
  {
   "cell_type": "markdown",
   "metadata": {},
   "source": [
    "`pip install gunicorn`"
   ]
  },
  {
   "cell_type": "markdown",
   "metadata": {},
   "source": [
    "now, in the root directory, we need to add **Procfile**"
   ]
  },
  {
   "cell_type": "markdown",
   "metadata": {},
   "source": [
    "`web: gunicorn vidly.wsgi`"
   ]
  },
  {
   "cell_type": "markdown",
   "metadata": {},
   "source": [
    "tells heroku that we need a **web** process, and to use **gunicorn** command to run our server, and the name of the module to start the app, i.e. **vidly.wsgi**"
   ]
  },
  {
   "cell_type": "markdown",
   "metadata": {},
   "source": [
    "now we need to prepare the static files for deployment, django admin has static files, we need to bring that to our current directory.."
   ]
  },
  {
   "cell_type": "markdown",
   "metadata": {},
   "source": [
    "in vidly folder, settings.py, define new variable `STATIC_ROOT = od.path.join(BASE_DIR, 'static')`"
   ]
  },
  {
   "cell_type": "markdown",
   "metadata": {},
   "source": [
    "also create a static folder in the base directory"
   ]
  },
  {
   "cell_type": "markdown",
   "metadata": {},
   "source": [
    "`python .\\manage.py collectstatic`"
   ]
  },
  {
   "cell_type": "markdown",
   "metadata": {},
   "source": [
    "collects all static files into our static folder"
   ]
  },
  {
   "cell_type": "markdown",
   "metadata": {},
   "source": [
    "to serve all the static files to heroku, we need another package called **whitenoise**"
   ]
  },
  {
   "cell_type": "markdown",
   "metadata": {},
   "source": [
    "`pip install whitenoise`"
   ]
  },
  {
   "cell_type": "markdown",
   "metadata": {},
   "source": [
    "enable whitenoise middleware, check (https://whitenoise.evans.io/en/stable/django.html)"
   ]
  },
  {
   "cell_type": "markdown",
   "metadata": {},
   "source": [
    "## Deployment"
   ]
  },
  {
   "cell_type": "markdown",
   "metadata": {},
   "source": [
    "`git init`"
   ]
  },
  {
   "cell_type": "markdown",
   "metadata": {},
   "source": [
    "`git add .`"
   ]
  },
  {
   "cell_type": "markdown",
   "metadata": {},
   "source": [
    "`git commit -m \"first commit\"`"
   ]
  },
  {
   "cell_type": "markdown",
   "metadata": {},
   "source": [
    "now we need to create a heroku app using heroku CLI"
   ]
  },
  {
   "cell_type": "markdown",
   "metadata": {},
   "source": [
    "`heroku login`"
   ]
  },
  {
   "cell_type": "markdown",
   "metadata": {},
   "source": [
    "`heroku create`"
   ]
  },
  {
   "cell_type": "markdown",
   "metadata": {},
   "source": [
    "`git push heroku master`"
   ]
  },
  {
   "cell_type": "markdown",
   "metadata": {},
   "source": [
    "to tell heroku to allocate one web server to this application\n",
    "\n",
    "`heroku ps:scale web=1`"
   ]
  },
  {
   "cell_type": "markdown",
   "metadata": {},
   "source": [
    "in the settings.py, add the address of our website to `ALLOWED_HOSTS`"
   ]
  },
  {
   "cell_type": "markdown",
   "metadata": {},
   "source": [
    "commit everything to local repo and push to heroku"
   ]
  },
  {
   "cell_type": "markdown",
   "metadata": {},
   "source": [
    "`heroku open`"
   ]
  },
  {
   "cell_type": "markdown",
   "metadata": {},
   "source": [
    "## deployed !!"
   ]
  }
 ],
 "metadata": {
  "kernelspec": {
   "display_name": "Python 3.9.7 ('base')",
   "language": "python",
   "name": "python3"
  },
  "language_info": {
   "codemirror_mode": {
    "name": "ipython",
    "version": 3
   },
   "file_extension": ".py",
   "mimetype": "text/x-python",
   "name": "python",
   "nbconvert_exporter": "python",
   "pygments_lexer": "ipython3",
   "version": "3.9.7"
  },
  "orig_nbformat": 4,
  "vscode": {
   "interpreter": {
    "hash": "ad2bdc8ecc057115af97d19610ffacc2b4e99fae6737bb82f5d7fb13d2f2c186"
   }
  }
 },
 "nbformat": 4,
 "nbformat_minor": 2
}
